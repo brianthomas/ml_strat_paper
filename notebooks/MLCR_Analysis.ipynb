{
 "cells": [
  {
   "cell_type": "markdown",
   "metadata": {},
   "source": [
    "## Notebook to examine distribution of papers in a topic by their likehood of membership.\n",
    "\n",
    "Try to answer the questions:\n",
    "    'what is a good threshold/cutoff to exclude papers from a given topic, if any?'\n",
    "    'Are there a large number of seemingly random, low-probability papers in a topic?'\n"
   ]
  },
  {
   "cell_type": "code",
   "execution_count": 1,
   "metadata": {},
   "outputs": [],
   "source": [
    "import pandas as pd\n",
    "import h5py\n",
    "import os\n",
    "import json\n",
    "import math\n",
    "import sys\n",
    "import statistics as stat\n",
    "import matplotlib.pyplot as plt\n",
    "\n",
    "from scipy.stats import pearsonr, spearmanr, sem # standard error of mean\n",
    "sys.path.append(\"../src\")\n",
    "from process import *"
   ]
  },
  {
   "cell_type": "markdown",
   "metadata": {},
   "source": [
    "### Config"
   ]
  },
  {
   "cell_type": "code",
   "execution_count": 2,
   "metadata": {},
   "outputs": [],
   "source": [
    "# defs of data to use\n",
    "\n",
    "# Viz19, 10 Runs 125 topics, 'astro-only' high-impact journals, no SEDs\n",
    "versions = ['19_2_125_rec1', '19_2_125_rec2','19_2_125_rec3','19_2_125_rec4','19_2_125_rec5',\n",
    "            '19_2_125_rec6', '19_2_125_rec7','19_2_125_rec8','19_2_125_rec9','19_2_125_rec10'] \n",
    "\n",
    "citation_filename = '../data/astro_only_doc_citation_bibcode_cnts_2010.json'\n",
    "\n",
    "# Document content type\n",
    "contentType = 'decadal'\n",
    "#contentType = 'whitepaper'\n",
    "\n",
    "# Low cite threshold\n",
    "low_cite_threshold = 10 # dont use papers with fewer cites than this\n",
    "\n",
    "# min topic threshold to use\n",
    "# IMPORTANT NOTE: we HAVE to have some way of discrimination of which citations to keep because otherwise\n",
    "# we get the same average number of citations for every topic IF we have min_inference of 0 (e.g. ALL papers are relevant for \n",
    "# all topics, so its the same population, and hence values for avg citiations, for all topics).\n",
    "# Best value is ~0.2\n",
    "#\n",
    "min_inferences = [0.01, 0.1, 0.15, 0.2, 0.3, 0.4, 0.5, 0.6, 0.7] # threshold of paper inference to be included in citation count for a topic\n",
    "\n",
    "# maximum inference threshold to use, discard everything above this\n",
    "max_inference = 1.0\n",
    "\n",
    "# use filtered? for 19_2_125 means no Grav Wave topic\n",
    "use_filtered = True\n",
    "\n",
    "# whether to use pearson or spearman coorelation\n",
    "use_spearman = True\n",
    "\n",
    "# minimum citations needed per topic\n",
    "min_citations_needed = 3 # IF lower than this, we dont have enough data to estimate reasonable avg\n",
    "\n",
    "# debug mode\n",
    "chatty = False"
   ]
  },
  {
   "cell_type": "code",
   "execution_count": 3,
   "metadata": {},
   "outputs": [],
   "source": [
    "# set filtering\n",
    "filtered = \"_filtered\" if use_filtered else \"\""
   ]
  },
  {
   "cell_type": "markdown",
   "metadata": {},
   "source": [
    "### Code"
   ]
  },
  {
   "cell_type": "code",
   "execution_count": 4,
   "metadata": {},
   "outputs": [],
   "source": [
    "def adj_cite_cnt(yr:int, cite_cnt:int)->int:\n",
    "    #return eic_func(yr, cite_cnt)\n",
    "    return sigmoid_func(yr, cite_cnt)\n",
    "\n",
    "# from mmodel fitting astro journals we're using\n",
    "cite_half_life = 10.7\n",
    "\n",
    "# [p[0] * (1. - (0.5) ** (dx/p[1])) \n",
    "def eic_func(yr:int, cite_cnt:int)->int:\n",
    "    ''' apply the 'exponential to constant' function with prior fitted values for this model '''\n",
    "    #max_cite_est = cite_cnt / (1 - (0.5 ** ((2021 - yr)/cite_half_life)))\n",
    "    max_cite_est = cite_cnt / (1 - (0.5 ** ((2011 - yr)/cite_half_life)))\n",
    "    return int(max_cite_est)\n",
    "\n",
    "# (p[0] / (1 + (p[1] * math.exp(p[2] * dx))))\n",
    "# array([59.4822963 , 10.19423547, -0.39783075]),\n",
    "def sigmoid_func1(yr:int, cite_cnt:int)->int:\n",
    "    ''' apply the 'sigmoid/logistic growth' function with prior fitted values for this model '''\n",
    "    max_cite_est = (cite_cnt + 72.5) * (1 + math.exp(-0.18 * (2010 - yr)))\n",
    "    return int(max_cite_est)\n",
    "\n",
    "# (p[0] / (1 + (p[1] * math.exp(p[2] * dx))))\n",
    "# array([59.4822963 , 10.19423547, -0.39783075]),\n",
    "def sigmoid_func(yr:int, cite_cnt:int)->int:\n",
    "    ''' apply the 'sigmoid/logistic growth' function with prior fitted values for this model '''\n",
    "    max_cite_est = cite_cnt * (10.194 * math.exp(-0.3978 * (2010 - yr)))\n",
    "    return int(max_cite_est)"
   ]
  },
  {
   "cell_type": "code",
   "execution_count": 5,
   "metadata": {},
   "outputs": [],
   "source": [
    "def load_topic_bibcode_h5py(viz_data_loc: os.PathLike)->pd.DataFrame:\n",
    "    \"\"\"\n",
    "    Load object parameters from an hdf database.\n",
    "    Args:\n",
    "        viz_data_loc: path to hdf file\n",
    "    \"\"\"\n",
    "\n",
    "    with h5py.File(viz_data_loc, \"r\") as f0:\n",
    "        embedding = f0[\"embedding\"][:]\n",
    "        topic_coherences = f0[\"topic_coherences\"][:]\n",
    "        paper_ids = f0[\"paper_ids\"][:]\n",
    "        bibcodes = f0[\"bibcodes\"][:]\n",
    "        nasa_affiliation = f0[\"nasa_affiliation\"][:]\n",
    "        years = f0[\"years\"][:]\n",
    "        keyword_ids = f0[\"keyword_ids\"][:]\n",
    "        keywords = f0[\"keywords\"][:]\n",
    "        kwd_ts_values = f0[\"keyword_ts_values\"][:]\n",
    "        kwd_ts_cols = f0[\"keyword_cols\"][:]\n",
    "\n",
    "    #embedding_df = pd.DataFrame({\"bibcodes\": bibcodes, \"embedding\": embedding})\n",
    "    embedding_df = pd.DataFrame(embedding)\n",
    "    embedding_df['bibcodes'] = bibcodes\n",
    "    embedding_df.index = paper_ids\n",
    "        \n",
    "    return embedding_df\n",
    "\n",
    "# assemble dataset of papers by topic and counts\n",
    "# We will use the inference value for each topics contribution to a paper as its fractional counts to contribute \n",
    "# to that topic (above min threshold value for inference). We co-add all paper fractional contributions to a topic\n",
    "# then find the average number of citations for that topic\n",
    "def get_citations(data:pd.DataFrame, bibcodes, min_inference:float, \n",
    "                  doc_topic_data:pd.DataFrame, version:str)->dict:\n",
    "    \n",
    "    topics = doc_topic_data['topic']\n",
    "    topic_citations = { t:[] for t in topics }\n",
    "    \n",
    "    # step thru our paper data (~77k papers)\n",
    "    for i, row in data.iterrows():\n",
    "        \n",
    "        # get paper properties we'll need\n",
    "        bibcode = bibcodes[i].decode('utf-8')\n",
    "        try:     \n",
    "            est_cites = est_doc_citations[bibcode]\n",
    "        except KeyError as kex:\n",
    "            # this may happen because we culled low cite count paper\n",
    "            # move to the next paper\n",
    "            #print(f\"failed to find cites for key:{kex}\")\n",
    "            continue\n",
    "\n",
    "        # now iterate over topics to add in paper contribution\n",
    "        for topic, inf_fraction in row.items():\n",
    "\n",
    "            if topic in topic_citations.keys():\n",
    "                if inf_fraction > min_inference and inf_fraction <= max_inference:\n",
    "                    topic_citations[topic].append(est_cites) # the right way\n",
    "                    #topic_citations[topic].append(est_cites*inf_fraction) # TEST!\n",
    "                    #topic_citations[topic].append(inf_fraction) # ONLY Test, to see if correlated.. Ans: it is with TCS/RI because of how they are calculated. SO DONT USE.\n",
    "\n",
    "    # safety check for too few citations\n",
    "    for t in topic_citations.keys():\n",
    "        if len(topic_citations[t]) < min_citations_needed:\n",
    "            #print (f\"Warning topic: {t} lacks enough citations for an average, ignoring\")\n",
    "            topic_citations[t] = []\n",
    "            \n",
    "    # get the mean\n",
    "    bad_topics = []\n",
    "    topic_avg_citations = {}\n",
    "    for t in topic_citations:\n",
    "        try:\n",
    "            topic_avg_citations[t] = stat.mean(topic_citations[t])\n",
    "        except Exception as ex:\n",
    "            #print(f\"Warning: cant calculate avg citations for topic {t}, setting to ignore\")\n",
    "            topic_avg_citations[t] = -1.\n",
    "            bad_topics.append(t)\n",
    "\n",
    "    #merge data for citation/topic with RI/topic\n",
    "    cites = []\n",
    "    for i,row in doc_topic_data.iterrows():\n",
    "        topic = row['topic']\n",
    "        cites.append(topic_avg_citations[topic])\n",
    "\n",
    "    if chatty and len(bad_topics) > 0:\n",
    "        print(f\" * {version} dropped %s topics because of citation issues\" % len(bad_topics))\n",
    "    #print (f\" LENGTH CITES: %s\" % len(cites))\n",
    "    return cites\n"
   ]
  },
  {
   "cell_type": "code",
   "execution_count": 6,
   "metadata": {},
   "outputs": [],
   "source": [
    "def clean_doc_data (doc_topic_data:pd.DataFrame):\n",
    "    \n",
    "    orig_ri = list(doc_topic_data['ri'])\n",
    "    orig_tcs = list(doc_topic_data['tcs']) # this is literature TCS\n",
    "    orig_doc_tcs = list(doc_topic_data['doc_tcs']) # this is document TCS (decadal_report or whitepapers)\n",
    "    orig_cagr = list(doc_topic_data['cagr'])\n",
    "    orig_cites = list(doc_topic_data['avg_cites'])\n",
    "\n",
    "    # Drop bad data (because of cites problem)\n",
    "    tcs=[]\n",
    "    ri=[]\n",
    "    cagr=[]\n",
    "    cites=[]\n",
    "    doc_tcs=[]\n",
    "    for t in range(0, len(list(doc_topic_data['topic']))):\n",
    "        try:\n",
    "            if orig_cites[t] == -1.:\n",
    "                print (f\" Dropping topic {t} because no good citation estimate\")\n",
    "            else:\n",
    "                cites.append(orig_cites[t])\n",
    "                ri.append(orig_ri[t]) \n",
    "                cagr.append(orig_cagr[t])\n",
    "                tcs.append(orig_tcs[t])\n",
    "                doc_tcs.append(orig_doc_tcs[t])\n",
    "\n",
    "        except Exception as ex:\n",
    "            print (\"LEN of orig_x: %s\" % len(orig_x))\n",
    "            raise ex\n",
    "    return cagr, cites, doc_tcs, tcs, ri\n",
    "        \n",
    "\n",
    "def process (versions:list, min_inference:float, contentType:str, chatty:bool=False, filtered:str=\"\", spearman:bool=use_spearman):\n",
    "\n",
    "    cagr_coeffs = []\n",
    "    cagr_p_vals = []\n",
    "    \n",
    "    ri_coeffs = []\n",
    "    ri_p_vals = []\n",
    "    \n",
    "    tcs_coeffs = []\n",
    "    tcs_p_vals = []\n",
    "    \n",
    "    doc_tcs_coeffs = []\n",
    "    doc_tcs_p_vals = []\n",
    "    \n",
    "    for version in versions:\n",
    "        # load viz data with topic inferences\n",
    "        viz_filename = f\"../data/viz_data_{version}.hdf5\"\n",
    "        data = load_topic_bibcode_h5py(viz_filename)\n",
    "\n",
    "        # pull out bibcodes\n",
    "        bibcodes = data['bibcodes']\n",
    "        del data['bibcodes']\n",
    "\n",
    "        # load topic RI/CAGR/TCS data\n",
    "        doc_topic_data = pd.read_csv(f'../results/{contentType}_topic_data_{version}{filtered}.csv') \n",
    "\n",
    "        # merge / add in citation data\n",
    "        doc_topic_data['avg_cites'] = get_citations(data, bibcodes, min_inference, doc_topic_data, version)\n",
    "\n",
    "        # something may go wrong in cites calculation, so drop negative citations (represents a failed calc)\n",
    "        doc_topic_data = doc_topic_data[doc_topic_data['avg_cites'] >= 0.]\n",
    "\n",
    "        # clean and split out data for analysis\n",
    "        cagr, cites, doc_tcs, tcs, ri = clean_doc_data(doc_topic_data)\n",
    "        \n",
    "        # calculate correlations and plot - Cites vs TCS (literature)\n",
    "        if spearman:\n",
    "            coeff, p = spearmanr(cites, tcs)\n",
    "        else:\n",
    "            coeff, p = pearsonr(cites, tcs)\n",
    "            \n",
    "        if chatty:\n",
    "            print (f\"TCS:{version}{filtered} r:{coeff}, p:{p}\")\n",
    "        tcs_coeffs.append(coeff)\n",
    "        tcs_p_vals.append(p)\n",
    "        #plot_data (cites, tcs, ylabel=\"TCS\", xlabel=\"MLCR\", title=f\"{version}\\nr:%8.5f p:%12.10f\" % (coeff, p), ax=None)\n",
    "        \n",
    "        # calculate correlations and plot - Cites vs TCS (document)\n",
    "        if spearman:\n",
    "            coeff, p = spearmanr(cites, doc_tcs)\n",
    "        else:\n",
    "            coeff, p = pearsonr(cites, doc_tcs)\n",
    "            \n",
    "        if chatty:\n",
    "            print (f\"DOC TCS:{version}{filtered} r:{coeff}, p:{p}\")\n",
    "        doc_tcs_coeffs.append(coeff)\n",
    "        doc_tcs_p_vals.append(p)\n",
    "        #plot_data (cites, doc_tcs, ylabel=\"TCS\", xlabel=\"MLCR\", title=f\"{version}\\nr:%8.5f p:%12.10f\" % (coeff, p), ax=None)\n",
    "\n",
    "        # calculate correlations and plot - Cites vs RI\n",
    "        if spearman:\n",
    "            coeff, p = spearmanr(cites, ri)\n",
    "        else:\n",
    "            coeff, p = pearsonr(cites, ri)\n",
    "            \n",
    "        if chatty:\n",
    "            print (f\"RI:{version} r:{coeff}, p:{p}\")\n",
    "           \n",
    "        ri_coeffs.append(coeff)\n",
    "        ri_p_vals.append(p)\n",
    "        #plot_data (cites, ri, ylabel=\"RI\", xlabel=\"MLCR\", title=f\"{version}\\nr:%8.5f p:%12.10f\" % (coeff, p), ax=None)\n",
    "\n",
    "        if spearman:\n",
    "            coeff, p = spearmanr(cites, cagr)\n",
    "        else:\n",
    "            coeff, p = pearsonr(cites, cagr)\n",
    "            \n",
    "        if chatty:\n",
    "            print (f\"CAGR:{version} r:{coeff}, p:{p}\")\n",
    "        cagr_coeffs.append(coeff)\n",
    "        cagr_p_vals.append(p)\n",
    "        \n",
    "        if chatty:\n",
    "            plot_data (cites, cagr, ylabel=\"CAGR\", xlabel=\"MCLR\", title=f\"{version} ({min_inference} - {max_inference})\\nr:%8.5f p:%12.10f\" % (coeff, p), ax=None)\n",
    "\n",
    "        # write out dataset\n",
    "        doc_topic_data.to_csv(f'../results/ri_vs_citation_{contentType}_{version}_{min_inference}.csv')\n",
    "\n",
    "    return cagr_coeffs, ri_coeffs, tcs_coeffs, doc_tcs_coeffs, tcs_p_vals, cagr_p_vals, ri_p_vals, doc_tcs_p_vals"
   ]
  },
  {
   "cell_type": "markdown",
   "metadata": {},
   "source": [
    "### Do the work"
   ]
  },
  {
   "cell_type": "code",
   "execution_count": 7,
   "metadata": {},
   "outputs": [],
   "source": [
    "# load raw citation info\n",
    "doc_citations_raw = {}\n",
    "with open (citation_filename, 'r') as f:\n",
    "    doc_citations_raw = json.load(f)"
   ]
  },
  {
   "cell_type": "code",
   "execution_count": 8,
   "metadata": {},
   "outputs": [],
   "source": [
    "# correct citation data based on 1 - exp-decay model (see notebook)\n",
    "# to get a normalized population (as if all were equally out for same amount of time to be cited)\n",
    "est_doc_citations = {}\n",
    "\n",
    "for yr, docs in doc_citations_raw.items():\n",
    "    cites = []\n",
    "    adj_cites = []\n",
    "    for bibcode, cite_cnt in docs.items():\n",
    "        # use only papers with reasonable number of cites (low cite cnts are highly uncertain for estimation)\n",
    "        if cite_cnt >= low_cite_threshold:\n",
    "            est_doc_citations[bibcode] = adj_cite_cnt(int(yr),cite_cnt)\n",
    "            cites.append(cite_cnt)\n",
    "            adj_cites.append(est_doc_citations[bibcode])\n",
    "        \n",
    "    #print (f\"Mean cites {yr}: flt:%s adj:%s\" % (stat.mean(cites), stat.mean(adj_cites)))\n",
    "\n",
    "#est_doc_citations[str(b'2000AJ....120.1579Y')]\n",
    "#est_doc_citations"
   ]
  },
  {
   "cell_type": "code",
   "execution_count": 9,
   "metadata": {},
   "outputs": [
    {
     "name": "stdout",
     "output_type": "stream",
     "text": [
      "19_2_125_filtered (decadal)\n",
      "\n",
      "Use spearman: False\n",
      "min_inf:0.01\n",
      "\n",
      "Mean Val ; StdDev; StdErr\n",
      "min_inf:0.1\n",
      "\n",
      "Mean Val ; StdDev; StdErr\n",
      "min_inf:0.15\n",
      "\n",
      "Mean Val ; StdDev; StdErr\n",
      "min_inf:0.2\n",
      "\n",
      "Mean Val ; StdDev; StdErr\n",
      "DOC TCS:  0.45935,  0.01458\n",
      "TCS:  0.08279,  0.02240\n",
      "CAGR:  0.74672,  0.00905\n",
      "RI:  0.53913,  0.01514\n",
      "\n",
      "TCS Pval: 4.568703e-01, 1.174998e-01\n",
      "CAGR Pval: 6.595585e-21, 6.027525e-21\n",
      "RI Pval: 3.025652e-09, 2.303172e-09\n",
      "DOC TCS Pval: 2.982924e-06, 2.599348e-06\n",
      "\n",
      "min_inf:0.3\n",
      "\n",
      "Mean Val ; StdDev; StdErr\n",
      "min_inf:0.4\n",
      "\n",
      "Mean Val ; StdDev; StdErr\n",
      "min_inf:0.5\n",
      "\n",
      "Mean Val ; StdDev; StdErr\n",
      "min_inf:0.6\n",
      "\n",
      "Mean Val ; StdDev; StdErr\n",
      "min_inf:0.7\n",
      "\n",
      "Mean Val ; StdDev; StdErr\n"
     ]
    }
   ],
   "source": [
    "# do the analysis\n",
    "print (f\"%s%s (%s)\\n\" % (versions[0][:-5], filtered, contentType))\n",
    "mean_cagrs = []\n",
    "mean_ris = []\n",
    "mean_doc_tcss = []\n",
    "stderr_cagrs = []\n",
    "stderr_ris = []\n",
    "stderr_doc_tcss = []\n",
    "use_spearman=False\n",
    "\n",
    "print (f\"Use spearman: {use_spearman}\")\n",
    "# loop over recs and get mean vals    \n",
    "for min_inference in min_inferences:\n",
    "    \n",
    "    print (f\"min_inf:{min_inference}\\n\")\n",
    "    #chatty = True if (min_inference == 0.2) else False\n",
    "    cagr_coeffs, ri_coeffs, tcs_coeffs, doc_tcs_coeffs, tcs_p_vals, cagr_p_vals, ri_p_vals, doc_tcs_p_vals = process(versions, min_inference, \n",
    "                                                                                                                     contentType, chatty=chatty, \n",
    "                                                                                                                     filtered=filtered, spearman=use_spearman)\n",
    "    print (\"Mean Val ; StdDev; StdErr\")\n",
    "    \n",
    "    mean_cagr = stat.mean(cagr_coeffs)\n",
    "    mean_cagr_p = stat.mean(cagr_p_vals)\n",
    "    mean_ri   = stat.mean(ri_coeffs)\n",
    "    mean_ri_p = stat.mean(ri_p_vals)\n",
    "    mean_tcs  = stat.mean(tcs_coeffs)\n",
    "    mean_tcs_p = stat.mean(tcs_p_vals)\n",
    "    mean_doc_tcs  = stat.mean(doc_tcs_coeffs)\n",
    "    mean_doc_tcs_p  = stat.mean(doc_tcs_p_vals)\n",
    "        \n",
    "    stderr_cagr = sem(cagr_coeffs)\n",
    "    stderr_cagr_p = sem(cagr_p_vals)\n",
    "    \n",
    "    stderr_ri   = sem(ri_coeffs)\n",
    "    stderr_ri_p  = sem(ri_p_vals)\n",
    "    \n",
    "    stderr_tcs  = sem(tcs_coeffs)\n",
    "    stderr_tcs_p  = sem(tcs_p_vals)\n",
    "    \n",
    "    stderr_doc_tcs  = sem(doc_tcs_coeffs)\n",
    "    stderr_doc_tcs_p  = sem(doc_tcs_p_vals)\n",
    "    \n",
    "\n",
    "    if min_inference == 0.2:\n",
    "        \n",
    "        print (f\"DOC TCS: %8.5f, %8.5f\" % (mean_doc_tcs, stderr_doc_tcs))\n",
    "        print (f\"TCS: %8.5f, %8.5f\" % (mean_tcs, stderr_tcs))\n",
    "        print (f\"CAGR: %8.5f, %8.5f\" % (mean_cagr, stderr_cagr))\n",
    "        print (f\"RI: %8.5f, %8.5f\\n\" % (mean_ri, stderr_ri))\n",
    "\n",
    "        print (f\"TCS Pval: %e, %e\" % (mean_tcs_p, stderr_tcs_p))\n",
    "        print (f\"CAGR Pval: %e, %e\" % (mean_cagr_p, stderr_cagr_p))\n",
    "        print (f\"RI Pval: %e, %e\" % (mean_ri_p, stderr_ri_p))\n",
    "        print (f\"DOC TCS Pval: %e, %e\\n\" % (mean_doc_tcs_p, stderr_doc_tcs_p))\n",
    "\n",
    "    mean_cagrs.append(mean_cagr)\n",
    "    mean_doc_tcss.append(mean_doc_tcs)\n",
    "    mean_ris.append(mean_ri)\n",
    "    \n",
    "    stderr_cagrs.append(stderr_cagr)\n",
    "    stderr_doc_tcss.append(stderr_doc_tcs)\n",
    "    stderr_ris.append(stderr_ri)\n"
   ]
  },
  {
   "cell_type": "raw",
   "metadata": {},
   "source": [
    "19_2_125_filtered (decadal)\n",
    "\n",
    "Use spearman: False\n",
    "\n",
    "min_inf:0.2\n",
    "\n",
    "Mean Val ; StdDev; StdErr\n",
    "DOC TCS:  0.45935,  0.01458\n",
    "TCS:  0.08279,  0.02240\n",
    "CAGR:  0.74672,  0.00905\n",
    "RI:  0.53913,  0.01514\n",
    "\n",
    "TCS Pval: 4.568703e-01, 1.174998e-01\n",
    "CAGR Pval: 6.595585e-21, 6.027525e-21\n",
    "RI Pval: 3.025652e-09, 2.303172e-09\n",
    "DOC TCS Pval: 2.982924e-06, 2.599348e-06\n",
    "\n",
    "\n",
    "\n"
   ]
  },
  {
   "cell_type": "markdown",
   "metadata": {},
   "source": [
    "### Plotting"
   ]
  },
  {
   "cell_type": "code",
   "execution_count": 10,
   "metadata": {},
   "outputs": [],
   "source": [
    "def plot_data_errs (x, y, y_err, xlabel=\"\", ylabel=\"\", title=\"Title\", ax=None, color='red'):\n",
    "    if ax == None:\n",
    "        fig, ax = plt.subplots()\n",
    "\n",
    "    #plt.style.use('fivethirtyeight')\n",
    "\n",
    "    ax.plot(x, y, marker='o', markerfacecolor=color, linestyle=' ')\n",
    "    plt.errorbar(x, y, fmt='ko', yerr=y_err)\n",
    "\n",
    "    ax.set_title(title)\n",
    "    ax.set(xlabel=xlabel, ylabel=ylabel)\n",
    "    \n",
    "    return ax"
   ]
  },
  {
   "cell_type": "code",
   "execution_count": 11,
   "metadata": {},
   "outputs": [
    {
     "data": {
      "text/plain": [
       "(0.1, 0.6)"
      ]
     },
     "execution_count": 11,
     "metadata": {},
     "output_type": "execute_result"
    },
    {
     "data": {
      "image/png": "[encoded data removed]",
      "text/plain": [
       "<Figure size 640x480 with 1 Axes>"
      ]
     },
     "metadata": {},
     "output_type": "display_data"
    }
   ],
   "source": [
    "import matplotlib.pyplot as plt\n",
    "ax = plot_data_errs (min_inferences, mean_doc_tcss, stderr_doc_tcss, \n",
    "                     ylabel=f\"DOC TCS-MLCR Correlation ({contentType})\", xlabel=\"Min Topic Paper Inference\", \n",
    "                     title=f\"For {contentType} %s%s\" % (versions[0][:-5], filtered), ax=None)\n",
    "ax.set_ylim([0.1, 0.6])"
   ]
  },
  {
   "cell_type": "code",
   "execution_count": 12,
   "metadata": {},
   "outputs": [
    {
     "data": {
      "text/plain": [
       "(0.35, 0.75)"
      ]
     },
     "execution_count": 12,
     "metadata": {},
     "output_type": "execute_result"
    },
    {
     "data": {
      "image/png": "[encoded data removed]",
      "text/plain": [
       "<Figure size 640x480 with 1 Axes>"
      ]
     },
     "metadata": {},
     "output_type": "display_data"
    }
   ],
   "source": [
    "ax = plot_data_errs (min_inferences, mean_cagrs, stderr_cagrs, \n",
    "                     ylabel=\"TCS_CAGR$_{1998-2019}$ - MLCR R\", xlabel=\"I$_{paper}$ Min Threshold\", \n",
    "                     title=\"\", #f\"%s%s\" % (versions[0][:-5], filtered), \n",
    "                     ax=None)\n",
    "ax.set_ylim([0.35, 0.75])"
   ]
  },
  {
   "cell_type": "markdown",
   "metadata": {},
   "source": [
    "### Save results"
   ]
  },
  {
   "cell_type": "code",
   "execution_count": 13,
   "metadata": {},
   "outputs": [
    {
     "name": "stdout",
     "output_type": "stream",
     "text": [
      "wrote: ../results/mlcr_min_inferences_decadal_19_2_125_filtered.csv\n"
     ]
    }
   ],
   "source": [
    "mlcr_data = pd.DataFrame({'mean_cagr': mean_cagrs, 'mean_ri': mean_ris, 'mean_doc_tcss':mean_doc_tcss, \n",
    "                          'stderr_cagr': stderr_cagrs, 'stderr_ri': stderr_ris, 'stderr_doc_tcs': stderr_doc_tcs, \n",
    "                          'min_inference': min_inferences})\n",
    "\n",
    "vers = versions[0][:-5]\n",
    "filename = f'../results/mlcr_min_inferences_{contentType}_{vers}{filtered}.csv'\n",
    "print (f\"wrote: {filename}\")\n",
    "mlcr_data.to_csv(filename, index=False)\n",
    "    "
   ]
  },
  {
   "cell_type": "code",
   "execution_count": 14,
   "metadata": {},
   "outputs": [
    {
     "data": {
      "text/plain": [
       "([0.01, 0.1, 0.15, 0.2, 0.3, 0.4, 0.5, 0.6, 0.7],\n",
       " [0.7170519546073346,\n",
       "  0.7298396272960639,\n",
       "  0.7486433445599382,\n",
       "  0.7467246758039161,\n",
       "  0.7159772704373568,\n",
       "  0.6256633034636256,\n",
       "  0.6205232677813719,\n",
       "  0.5375857673154457,\n",
       "  0.4276074210469612])"
      ]
     },
     "execution_count": 14,
     "metadata": {},
     "output_type": "execute_result"
    }
   ],
   "source": [
    "min_inferences, mean_cagrs"
   ]
  },
  {
   "cell_type": "code",
   "execution_count": null,
   "metadata": {},
   "outputs": [],
   "source": []
  }
 ],
 "metadata": {
  "kernelspec": {
   "display_name": "Python [conda env:strat-paper]",
   "language": "python",
   "name": "conda-env-strat-paper-py"
  },
  "language_info": {
   "codemirror_mode": {
    "name": "ipython",
    "version": 3
   },
   "file_extension": ".py",
   "mimetype": "text/x-python",
   "name": "python",
   "nbconvert_exporter": "python",
   "pygments_lexer": "ipython3",
   "version": "3.10.13"
  }
 },
 "nbformat": 4,
 "nbformat_minor": 4
}
