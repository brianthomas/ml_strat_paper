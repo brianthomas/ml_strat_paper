{
 "cells": [
  {
   "cell_type": "markdown",
   "id": "3414bbcc-d670-41ef-b071-8da42e2178f7",
   "metadata": {},
   "source": [
    "# Explore Topics\n",
    "\n",
    "Notebook to allow inspection of keywords by topic by LDA run"
   ]
  },
  {
   "cell_type": "code",
   "execution_count": 1,
   "id": "cf873243-d94f-4a25-9c8f-d49d0291138a",
   "metadata": {},
   "outputs": [],
   "source": [
    "import gzip\n",
    "import json\n",
    "import matplotlib.pyplot as plt\n",
    "import numpy as np\n",
    "import pandas as pd\n",
    "import scipy\n",
    "import sys\n",
    "\n",
    "sys.path.append(\"../src\")\n",
    "from process import *\n",
    "from fitting_util import *\n",
    "from plotting import *\n",
    "\n",
    "import statistics as stat\n",
    "from scipy.stats import sem"
   ]
  },
  {
   "cell_type": "code",
   "execution_count": 2,
   "id": "ca0c61a3-be27-4eb3-a1d6-971ca2b5c99a",
   "metadata": {},
   "outputs": [],
   "source": [
    "# Config : dont change\n",
    "\n",
    "# LPT to use for stable topics, available values -2.0, -2.5 and -5.0 (only rec1-rec5 however)\n",
    "Lpt=-2.5 \n",
    "\n",
    "# type of content to model\n",
    "#contentType = 'whitepapers' \n",
    "contentType = 'decadal_report'\n",
    "\n",
    "# stable topic thresholds to examine\n",
    "thresholds = [0, 0.1, 0.2, 0.3, 0.4, 0.5, 0.6, 0.7, 0.8, 0.9]\n",
    "\n",
    "# Gravity Wave topics, which are related to phenomena on earth, not the sky\n",
    "ignore_topics = {\n",
    "                 '19_2_125_rec1': [65],\n",
    "                 '19_2_125_rec2': [112],\n",
    "                 '19_2_125_rec3': [41],\n",
    "                 '19_2_125_rec4': [74],\n",
    "                 '19_2_125_rec5': [5],\n",
    "                 '19_2_125_rec6': [93],\n",
    "                 '19_2_125_rec7': [112],\n",
    "                 '19_2_125_rec8': [1],\n",
    "                 '19_2_125_rec9': [6],\n",
    "                 '19_2_125_rec10': [95]\n",
    "                 }\n",
    "\n",
    "# -------------------------------\n",
    "# which cagr statistic to use\n",
    "which_cagr = 'CAGR' #'CAGR' #'CAGR_2_year_rolling_mean' # 'CAGR_model_best_fit' 'CAGR'\n",
    "#which_cagr = 'CAGR_2_year_rolling_mean' \n",
    "#which_cagr = 'CAGR_model_best_fit' \n",
    "\n",
    "flex_min_cagr = False # IF True, then min_cagr value is ignored in favor of using the minimum cagr\n",
    "                      # within the given dataset run\n",
    "min_cagr = -0.05 #-0.041 # for calculation of ri, the minimum cagr we expect to have to handle\n",
    "\n",
    "# ignore inferences in paragraphs below this value\n",
    "paragraph_inference_threshold = 0.0 # 0.01 # 0.1 # 1./125 \n",
    "\n",
    "# use spearman coorelation coefficient instead of pearson\n",
    "use_spearman = False\n",
    "\n",
    "# minimum score_sum (of top topic inference). IF below, then we discard\n",
    "# the result\n",
    "#min_top_topic_score_sum = 0.8 # 0.5 == 50%;  ie, must be above X%\n",
    "#min_top_topic_score_sum = 0.0 # This has no beneficial effect, see slides from 1-4-2021  # PARAM no longer used\n",
    "\n",
    "# this is used to normalize the (TCS) score we get. It should be the value of \n",
    "# inference if all paragraphs/unit/etc embody only a single topic\n",
    "document_max_score = {'decadal_report': 1009, 'whitepapers' : 274 }\n",
    "\n",
    "# These values from Bootstrap Error estimation (see respective notebooks)\n",
    "# TCS Literature (1998-2010) error (see Bootstrap_Estimation_1998-2010_TCS notebook)\n",
    "tcs_lit_mean_err = 18.3\n",
    "\n",
    "# TCS_CAGR error (see CAGR_Bootstrap_Estimation notebook)\n",
    "cagr_mean_err = 0.004\n",
    "\n",
    "# RI mean error (see RI_Bootstrap_Estimation notebook)\n",
    "ri_mean_err = 1.3"
   ]
  },
  {
   "cell_type": "code",
   "execution_count": 3,
   "id": "d32261cf-68d2-470c-8b30-fb02b957c888",
   "metadata": {},
   "outputs": [
    {
     "name": "stdout",
     "output_type": "stream",
     "text": [
      "_filtered\n"
     ]
    }
   ],
   "source": [
    "def has_ignore_topics (ig_dict:dict)->bool:\n",
    "    for v in ig_dict.values():\n",
    "        if len(v) > 0:\n",
    "            return True\n",
    "    return False\n",
    "\n",
    "filtered = \"_filtered\" if has_ignore_topics(ignore_topics) else \"\"\n",
    "print(filtered)"
   ]
  },
  {
   "cell_type": "code",
   "execution_count": 4,
   "id": "0ca786a3-4ad8-4124-8424-095aac03d240",
   "metadata": {},
   "outputs": [],
   "source": [
    "\n",
    "def process_tdata(version:str, contentType:str, lda_viz_data:pd.DataFrame, timeseries_data:pd.DataFrame, topic_distrib_data:pd.DataFrame, ignore_topics:list=[]):\n",
    "    \n",
    "    # create dataset of summed inference in Panel reports vs CAGR\n",
    "    # we need to carefully calculate the score. \n",
    "    # Hueristic: use only paragraphs where the top 5 topics sum to 0.5 or greater; \n",
    "\n",
    "    # process document inference data to get TCS score\n",
    "    doc_tcs = doc_tcs_by_topic (topic_distrib_data, threshold=paragraph_inference_threshold)\n",
    "\n",
    "    # now filter out topics which are 'unsuitable'\n",
    "    # then create scatter plot of summed inference in document vs CAGR\n",
    "    return create_dataset(doc_tcs, timeseries_data, lda_viz_data, which_cagr, ignore_topics, flex_min_cagr=flex_min_cagr,\n",
    "                          min_cagr=min_cagr, max_doc_score=document_max_score[contentType])"
   ]
  },
  {
   "cell_type": "code",
   "execution_count": 5,
   "id": "67c8b404-48ac-48ba-9fa8-bf00acac0851",
   "metadata": {},
   "outputs": [
    {
     "name": "stdout",
     "output_type": "stream",
     "text": [
      "Data MIN_CAGR: -0.0220487315718552\n"
     ]
    }
   ],
   "source": [
    "# testing\n",
    "version = '19_2_125_rec1'\n",
    "# open basic files\n",
    "lda_viz_data, timeseries_data, topic_distrib_data, stable_topics = open_datafiles(version, lpt=Lpt, contentType=contentType)\n",
    "\n",
    "# process \n",
    "doc_scores = process_tdata(version, contentType, lda_viz_data, timeseries_data, topic_distrib_data, ignore_topics[version])"
   ]
  },
  {
   "cell_type": "code",
   "execution_count": 6,
   "id": "57a27b83-aa7f-4a07-8bdf-ce5d04a7fe6a",
   "metadata": {},
   "outputs": [
    {
     "data": {
      "text/html": [
       "<div>\n",
       "<style scoped>\n",
       "    .dataframe tbody tr th:only-of-type {\n",
       "        vertical-align: middle;\n",
       "    }\n",
       "\n",
       "    .dataframe tbody tr th {\n",
       "        vertical-align: top;\n",
       "    }\n",
       "\n",
       "    .dataframe thead th {\n",
       "        text-align: right;\n",
       "    }\n",
       "</style>\n",
       "<table border=\"1\" class=\"dataframe\">\n",
       "  <thead>\n",
       "    <tr style=\"text-align: right;\">\n",
       "      <th></th>\n",
       "      <th>topic</th>\n",
       "      <th>raw_doc_tcs</th>\n",
       "      <th>doc_tcs</th>\n",
       "      <th>tcs</th>\n",
       "      <th>cagr</th>\n",
       "      <th>keywords</th>\n",
       "      <th>ri</th>\n",
       "    </tr>\n",
       "  </thead>\n",
       "  <tbody>\n",
       "    <tr>\n",
       "      <th>0</th>\n",
       "      <td>0</td>\n",
       "      <td>12.946581</td>\n",
       "      <td>0.012831</td>\n",
       "      <td>333.510897</td>\n",
       "      <td>0.026101</td>\n",
       "      <td>massive black hole, solar abundance, massive s...</td>\n",
       "      <td>25.380453</td>\n",
       "    </tr>\n",
       "    <tr>\n",
       "      <th>1</th>\n",
       "      <td>1</td>\n",
       "      <td>8.899732</td>\n",
       "      <td>0.008820</td>\n",
       "      <td>727.680610</td>\n",
       "      <td>0.023061</td>\n",
       "      <td>shock wave, photometric observation, particle ...</td>\n",
       "      <td>53.165325</td>\n",
       "    </tr>\n",
       "    <tr>\n",
       "      <th>2</th>\n",
       "      <td>2</td>\n",
       "      <td>22.136611</td>\n",
       "      <td>0.021939</td>\n",
       "      <td>1138.389202</td>\n",
       "      <td>0.083674</td>\n",
       "      <td>high redshift, low redshift, z &gt;, &lt; z &lt;, star-...</td>\n",
       "      <td>152.172629</td>\n",
       "    </tr>\n",
       "  </tbody>\n",
       "</table>\n",
       "</div>"
      ],
      "text/plain": [
       "  topic  raw_doc_tcs   doc_tcs          tcs      cagr  \\\n",
       "0     0    12.946581  0.012831   333.510897  0.026101   \n",
       "1     1     8.899732  0.008820   727.680610  0.023061   \n",
       "2     2    22.136611  0.021939  1138.389202  0.083674   \n",
       "\n",
       "                                            keywords          ri  \n",
       "0  massive black hole, solar abundance, massive s...   25.380453  \n",
       "1  shock wave, photometric observation, particle ...   53.165325  \n",
       "2  high redshift, low redshift, z >, < z <, star-...  152.172629  "
      ]
     },
     "execution_count": 6,
     "metadata": {},
     "output_type": "execute_result"
    }
   ],
   "source": [
    "doc_scores[:3]"
   ]
  },
  {
   "cell_type": "code",
   "execution_count": 7,
   "id": "440142e1-8076-477c-be49-56cec9b37212",
   "metadata": {},
   "outputs": [],
   "source": [
    "def get_topic_keywords(topic_num, doc_scores)->str:\n",
    "    return doc_scores[doc_scores['topic']==str(topic_num)]"
   ]
  },
  {
   "cell_type": "code",
   "execution_count": 8,
   "id": "aa8e9ffd-21cd-4eec-b520-a52cc4c47ad7",
   "metadata": {},
   "outputs": [
    {
     "data": {
      "text/html": [
       "<div>\n",
       "<style scoped>\n",
       "    .dataframe tbody tr th:only-of-type {\n",
       "        vertical-align: middle;\n",
       "    }\n",
       "\n",
       "    .dataframe tbody tr th {\n",
       "        vertical-align: top;\n",
       "    }\n",
       "\n",
       "    .dataframe thead th {\n",
       "        text-align: right;\n",
       "    }\n",
       "</style>\n",
       "<table border=\"1\" class=\"dataframe\">\n",
       "  <thead>\n",
       "    <tr style=\"text-align: right;\">\n",
       "      <th></th>\n",
       "      <th>topic</th>\n",
       "      <th>raw_doc_tcs</th>\n",
       "      <th>doc_tcs</th>\n",
       "      <th>tcs</th>\n",
       "      <th>cagr</th>\n",
       "      <th>keywords</th>\n",
       "      <th>ri</th>\n",
       "    </tr>\n",
       "  </thead>\n",
       "  <tbody>\n",
       "    <tr>\n",
       "      <th>23</th>\n",
       "      <td>23</td>\n",
       "      <td>5.930148</td>\n",
       "      <td>0.005877</td>\n",
       "      <td>542.681655</td>\n",
       "      <td>-0.009913</td>\n",
       "      <td>elliptical galaxy, globular cluster, hubble sp...</td>\n",
       "      <td>21.754692</td>\n",
       "    </tr>\n",
       "  </tbody>\n",
       "</table>\n",
       "</div>"
      ],
      "text/plain": [
       "   topic  raw_doc_tcs   doc_tcs         tcs      cagr  \\\n",
       "23    23     5.930148  0.005877  542.681655 -0.009913   \n",
       "\n",
       "                                             keywords         ri  \n",
       "23  elliptical galaxy, globular cluster, hubble sp...  21.754692  "
      ]
     },
     "execution_count": 8,
     "metadata": {},
     "output_type": "execute_result"
    }
   ],
   "source": [
    "get_topic_keywords(23, doc_scores)"
   ]
  },
  {
   "cell_type": "code",
   "execution_count": 9,
   "id": "c4541973-d5d9-49c4-a0a5-aac18a33326b",
   "metadata": {},
   "outputs": [
    {
     "data": {
      "text/html": [
       "<div>\n",
       "<style scoped>\n",
       "    .dataframe tbody tr th:only-of-type {\n",
       "        vertical-align: middle;\n",
       "    }\n",
       "\n",
       "    .dataframe tbody tr th {\n",
       "        vertical-align: top;\n",
       "    }\n",
       "\n",
       "    .dataframe thead th {\n",
       "        text-align: right;\n",
       "    }\n",
       "</style>\n",
       "<table border=\"1\" class=\"dataframe\">\n",
       "  <thead>\n",
       "    <tr style=\"text-align: right;\">\n",
       "      <th></th>\n",
       "      <th>topic</th>\n",
       "      <th>raw_doc_tcs</th>\n",
       "      <th>doc_tcs</th>\n",
       "      <th>tcs</th>\n",
       "      <th>cagr</th>\n",
       "      <th>keywords</th>\n",
       "      <th>ri</th>\n",
       "    </tr>\n",
       "  </thead>\n",
       "  <tbody>\n",
       "    <tr>\n",
       "      <th>7</th>\n",
       "      <td>7</td>\n",
       "      <td>6.996014</td>\n",
       "      <td>0.006934</td>\n",
       "      <td>455.102846</td>\n",
       "      <td>0.05408</td>\n",
       "      <td>polycyclic aromatic hydrocarbon, infrared emis...</td>\n",
       "      <td>47.366895</td>\n",
       "    </tr>\n",
       "  </tbody>\n",
       "</table>\n",
       "</div>"
      ],
      "text/plain": [
       "  topic  raw_doc_tcs   doc_tcs         tcs     cagr  \\\n",
       "7     7     6.996014  0.006934  455.102846  0.05408   \n",
       "\n",
       "                                            keywords         ri  \n",
       "7  polycyclic aromatic hydrocarbon, infrared emis...  47.366895  "
      ]
     },
     "execution_count": 9,
     "metadata": {},
     "output_type": "execute_result"
    }
   ],
   "source": [
    "get_topic_keywords(7, doc_scores)"
   ]
  },
  {
   "cell_type": "code",
   "execution_count": null,
   "id": "d91055ae-4f0a-4909-aa6d-450ecd25084d",
   "metadata": {},
   "outputs": [],
   "source": []
  }
 ],
 "metadata": {
  "kernelspec": {
   "display_name": "Python 3 (ipykernel)",
   "language": "python",
   "name": "python3"
  },
  "language_info": {
   "codemirror_mode": {
    "name": "ipython",
    "version": 3
   },
   "file_extension": ".py",
   "mimetype": "text/x-python",
   "name": "python",
   "nbconvert_exporter": "python",
   "pygments_lexer": "ipython3",
   "version": "3.10.8"
  }
 },
 "nbformat": 4,
 "nbformat_minor": 5
}
