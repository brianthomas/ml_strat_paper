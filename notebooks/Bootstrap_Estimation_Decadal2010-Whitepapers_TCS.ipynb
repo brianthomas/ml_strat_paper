{
 "cells": [
  {
   "cell_type": "markdown",
   "metadata": {},
   "source": [
    "## Notebook to examine error (standard deviation) of TCS using bootstrap method for whitepapers\n",
    "This is estimated for TCS 2010 Decadal Survey Whitepapers"
   ]
  },
  {
   "cell_type": "code",
   "execution_count": 1,
   "metadata": {},
   "outputs": [],
   "source": [
    "import pandas as pd\n",
    "import os, sys\n",
    "sys.path.append(\"../src\")\n",
    "from process import *"
   ]
  },
  {
   "cell_type": "code",
   "execution_count": 2,
   "metadata": {},
   "outputs": [],
   "source": [
    "# Config section\n",
    "version = '19_2_125_rec1'\n",
    "\n",
    "# viz 19 (125 topics)\n",
    "topics_to_estimate_errors = [29, 32, 45, 64, 70, 74, 91, 95, 97, 120]"
   ]
  },
  {
   "cell_type": "code",
   "execution_count": 3,
   "metadata": {},
   "outputs": [
    {
     "data": {
      "text/html": [
       "<div>\n",
       "<style scoped>\n",
       "    .dataframe tbody tr th:only-of-type {\n",
       "        vertical-align: middle;\n",
       "    }\n",
       "\n",
       "    .dataframe tbody tr th {\n",
       "        vertical-align: top;\n",
       "    }\n",
       "\n",
       "    .dataframe thead th {\n",
       "        text-align: right;\n",
       "    }\n",
       "</style>\n",
       "<table border=\"1\" class=\"dataframe\">\n",
       "  <thead>\n",
       "    <tr style=\"text-align: right;\">\n",
       "      <th></th>\n",
       "      <th>0</th>\n",
       "      <th>1</th>\n",
       "      <th>2</th>\n",
       "      <th>3</th>\n",
       "      <th>4</th>\n",
       "      <th>5</th>\n",
       "      <th>6</th>\n",
       "      <th>7</th>\n",
       "      <th>8</th>\n",
       "      <th>9</th>\n",
       "      <th>...</th>\n",
       "      <th>115</th>\n",
       "      <th>116</th>\n",
       "      <th>117</th>\n",
       "      <th>118</th>\n",
       "      <th>119</th>\n",
       "      <th>120</th>\n",
       "      <th>121</th>\n",
       "      <th>122</th>\n",
       "      <th>123</th>\n",
       "      <th>124</th>\n",
       "    </tr>\n",
       "  </thead>\n",
       "  <tbody>\n",
       "    <tr>\n",
       "      <th>0</th>\n",
       "      <td>0.041421</td>\n",
       "      <td>0.000329</td>\n",
       "      <td>0.000339</td>\n",
       "      <td>0.000327</td>\n",
       "      <td>0.000304</td>\n",
       "      <td>0.000322</td>\n",
       "      <td>0.000319</td>\n",
       "      <td>0.00032</td>\n",
       "      <td>0.00034</td>\n",
       "      <td>0.044078</td>\n",
       "      <td>...</td>\n",
       "      <td>0.000325</td>\n",
       "      <td>0.000313</td>\n",
       "      <td>0.000319</td>\n",
       "      <td>0.000332</td>\n",
       "      <td>0.000315</td>\n",
       "      <td>0.00032</td>\n",
       "      <td>0.000331</td>\n",
       "      <td>0.000327</td>\n",
       "      <td>0.000325</td>\n",
       "      <td>0.000322</td>\n",
       "    </tr>\n",
       "  </tbody>\n",
       "</table>\n",
       "<p>1 rows × 125 columns</p>\n",
       "</div>"
      ],
      "text/plain": [
       "          0         1         2         3         4         5         6  \\\n",
       "0  0.041421  0.000329  0.000339  0.000327  0.000304  0.000322  0.000319   \n",
       "\n",
       "         7        8         9  ...       115       116       117       118  \\\n",
       "0  0.00032  0.00034  0.044078  ...  0.000325  0.000313  0.000319  0.000332   \n",
       "\n",
       "        119      120       121       122       123       124  \n",
       "0  0.000315  0.00032  0.000331  0.000327  0.000325  0.000322  \n",
       "\n",
       "[1 rows x 125 columns]"
      ]
     },
     "execution_count": 3,
     "metadata": {},
     "output_type": "execute_result"
    }
   ],
   "source": [
    "# load data\n",
    "topic_distrib_data = open_topic_distrib(version, 'whitepapers')\n",
    "\n",
    "# process document inference data to get an idea of inferences by topic, for each paper in our data\n",
    "data_by_paper = topic_distrib_data.drop(['Unnamed: 0'], axis=1)\n",
    "data_by_paper[:1]"
   ]
  },
  {
   "cell_type": "code",
   "execution_count": 4,
   "metadata": {},
   "outputs": [
    {
     "data": {
      "text/plain": [
       "['0', '1', '2']"
      ]
     },
     "execution_count": 4,
     "metadata": {},
     "output_type": "execute_result"
    }
   ],
   "source": [
    "k = list(data_by_paper.keys())\n",
    "list(data_by_paper.keys())[:3]"
   ]
  },
  {
   "cell_type": "code",
   "execution_count": 5,
   "metadata": {},
   "outputs": [
    {
     "data": {
      "text/plain": [
       "125"
      ]
     },
     "execution_count": 5,
     "metadata": {},
     "output_type": "execute_result"
    }
   ],
   "source": [
    "len(data_by_paper.columns)"
   ]
  },
  {
   "cell_type": "code",
   "execution_count": 6,
   "metadata": {},
   "outputs": [
    {
     "data": {
      "text/plain": [
       "274"
      ]
     },
     "execution_count": 6,
     "metadata": {},
     "output_type": "execute_result"
    }
   ],
   "source": [
    "row_seq = list(range(0, len(data_by_paper)))\n",
    "len(row_seq)"
   ]
  },
  {
   "cell_type": "code",
   "execution_count": 7,
   "metadata": {},
   "outputs": [],
   "source": [
    "import numpy as np\n",
    "import statistics\n",
    "\n",
    "# sample data for bootstrap\n",
    "import random\n",
    "def sample_paragraphs(topic:str, data_by_paper:pd.DataFrame, samples_per_run:int=100):\n",
    "    ''' find TCS or summed total inference from paragraphs for topic '''\n",
    "    total_inference = 0\n",
    "    \n",
    "    keys = list(data_by_paper.keys())\n",
    "    t_size = len(keys)\n",
    "        \n",
    "    # random sample, no replacement\n",
    "    num_topics = len(data_by_paper.columns)\n",
    "    \n",
    "    # using random sampling of the rows, no replacement\n",
    "    data = data_by_paper\n",
    "    \n",
    "    row_seq = list(range(0, len(data)))\n",
    "    #print (row_seq)\n",
    "\n",
    "    random_rows = random.sample(row_seq, samples_per_run)\n",
    "    for random_row in random_rows:\n",
    "        row_data = data[data.index==random_row]\n",
    "        value = list(row_data[topic].values)[0]\n",
    "        total_inference += value\n",
    "\n",
    "    return total_inference\n",
    "\n",
    "# sample data for bootstrap\n",
    "def sample_paragraphs_repl(topic, data_by_paper:dict, samples_per_run:int=100):\n",
    "    \n",
    "    total_inference = 0\n",
    "    \n",
    "    t_size = len(data_by_paper.keys())\n",
    "    \n",
    "    # random sample with replacement.\n",
    "    num_topics = len(data_by_paper.columns)\n",
    "    \n",
    "     # using random sampling of the rows, no replacement\n",
    "    data = data_by_paper\n",
    "    \n",
    "    row_seq = list(range(0, len(data)))\n",
    "    #print (row_seq)\n",
    "\n",
    "    random_rows = []\n",
    "    for i in range(0,samples_per_run):\n",
    "        random_rows.append(random.choice(row_seq))\n",
    "   \n",
    "    for random_row in random_rows:\n",
    "        row_data = data[data.index==random_row]\n",
    "        value = list(row_data[topic].values)[0]\n",
    "        total_inference += value\n",
    "\n",
    "    return total_inference\n",
    "\n",
    "def bootstrap_estimate (topic:str, data_by_paper:dict, \\\n",
    "                       num_times_to_sample:int=10, num_data_samples:int=10000,\\\n",
    "                       replacement:bool=True):\n",
    "    \n",
    "    \"\"\" Returns the mean and standard deviation for selected topic inference values \"\"\"\n",
    "    \n",
    "    stats = []\n",
    "    for i in range(0, num_times_to_sample):\n",
    "        if replacement:\n",
    "            stats.append(sample_paragraphs_repl(topic, data_by_paper, num_data_samples))\n",
    "        else:\n",
    "            stats.append(sample_paragraphs(topic, data_by_paper, num_data_samples))\n",
    "    \n",
    "    #calculate mean, standard deviation\n",
    "    return statistics.mean(stats), np.std(stats)\n",
    "    \n"
   ]
  },
  {
   "cell_type": "code",
   "execution_count": 8,
   "metadata": {},
   "outputs": [
    {
     "data": {
      "text/plain": [
       "274"
      ]
     },
     "execution_count": 8,
     "metadata": {},
     "output_type": "execute_result"
    }
   ],
   "source": [
    "# overall size (using smallest/first year)\n",
    "len(data_by_paper[k[0]])"
   ]
  },
  {
   "cell_type": "code",
   "execution_count": 9,
   "metadata": {},
   "outputs": [
    {
     "data": {
      "text/plain": [
       "191"
      ]
     },
     "execution_count": 9,
     "metadata": {},
     "output_type": "execute_result"
    }
   ],
   "source": [
    "# choose to sample ~70% of the smallest year size\n",
    "sample_size = int(len(data_by_paper) * 0.7)\n",
    "sample_size"
   ]
  },
  {
   "cell_type": "code",
   "execution_count": 10,
   "metadata": {},
   "outputs": [
    {
     "name": "stdout",
     "output_type": "stream",
     "text": [
      " time to run:  0.47 sec\n"
     ]
    },
    {
     "data": {
      "text/plain": [
       "(0.6102956209249002, 0.21320187236554608)"
      ]
     },
     "execution_count": 10,
     "metadata": {},
     "output_type": "execute_result"
    }
   ],
   "source": [
    "import time\n",
    "start_time = time.time()\n",
    "\n",
    "# bootstrap w/replacement is same as w/o replacement according to:\n",
    "#  https://stats.stackexchange.com/questions/69744/why-at-all-consider-sampling-without-replacement-in-a-practical-application\n",
    "# when applied to first-order statistics like mean and variance. w/o replacement should\n",
    "# be used for higher order statistics (e.g. skewness, kurtosis)\n",
    "\n",
    "# takes about 560 sec per ~18000 data samples per topic \n",
    "result = bootstrap_estimate(\"64\", data_by_paper, 10, sample_size)\n",
    "print (f\" time to run: %5.2f sec\" % (time.time()-start_time))\n",
    "result"
   ]
  },
  {
   "cell_type": "code",
   "execution_count": 11,
   "metadata": {},
   "outputs": [],
   "source": [
    "#start_time = time.time()\n",
    "#result = bootstrap_estimate(64, data_by_paper, 10, 18000, replacement=False)\n",
    "#print (f\" time to run: %5.2f sec\" % (time.time()-start_time))\n",
    "#result"
   ]
  },
  {
   "cell_type": "code",
   "execution_count": 12,
   "metadata": {},
   "outputs": [
    {
     "name": "stdout",
     "output_type": "stream",
     "text": [
      "Doing topic 29\n",
      "Doing topic 32\n",
      "Doing topic 45\n",
      "Doing topic 64\n",
      "Doing topic 70\n",
      "Doing topic 74\n",
      "Doing topic 91\n",
      "Doing topic 95\n",
      "Doing topic 97\n",
      "Doing topic 120\n"
     ]
    }
   ],
   "source": [
    "# Now defined above\n",
    "results = {}\n",
    "for topic in topics_to_estimate_errors:\n",
    "    print (f\"Doing topic {topic}\")\n",
    "    results[topic] = bootstrap_estimate(str(topic), data_by_paper, 10, sample_size, replacement=True)"
   ]
  },
  {
   "cell_type": "code",
   "execution_count": 13,
   "metadata": {},
   "outputs": [
    {
     "data": {
      "text/plain": [
       "{29: (0.46133424224029995, 0.13320717899668016),\n",
       " 32: (1.3627058157251004, 0.2905644079065685),\n",
       " 45: (0.8536000844518998, 0.1095721806858675),\n",
       " 64: (0.5279143936755, 0.32653006183092176),\n",
       " 70: (2.3912716355718997, 0.699412193136246),\n",
       " 74: (2.1499680205441005, 0.5094859106387135),\n",
       " 91: (0.5751401418779002, 0.23887497618672454),\n",
       " 95: (1.3555758259588, 0.3184365653275134),\n",
       " 97: (0.5082239376805, 0.18337072911617291),\n",
       " 120: (1.8132168016363002, 0.3522798527781437)}"
      ]
     },
     "execution_count": 13,
     "metadata": {},
     "output_type": "execute_result"
    }
   ],
   "source": [
    "results"
   ]
  },
  {
   "cell_type": "code",
   "execution_count": 14,
   "metadata": {},
   "outputs": [],
   "source": [
    "#timeseries_filename=f'../data/time_series_characteristics_{version}.csv'\n",
    "# read in data with various info, each row is a topic number \n",
    "#timeseries_data = pd.read_csv(timeseries_filename, index_col=False)\n",
    "#timeseries_data['count'][64]"
   ]
  },
  {
   "cell_type": "code",
   "execution_count": 15,
   "metadata": {},
   "outputs": [
    {
     "data": {
      "text/html": [
       "<div>\n",
       "<style scoped>\n",
       "    .dataframe tbody tr th:only-of-type {\n",
       "        vertical-align: middle;\n",
       "    }\n",
       "\n",
       "    .dataframe tbody tr th {\n",
       "        vertical-align: top;\n",
       "    }\n",
       "\n",
       "    .dataframe thead th {\n",
       "        text-align: right;\n",
       "    }\n",
       "</style>\n",
       "<table border=\"1\" class=\"dataframe\">\n",
       "  <thead>\n",
       "    <tr style=\"text-align: right;\">\n",
       "      <th></th>\n",
       "      <th>topic</th>\n",
       "      <th>mean</th>\n",
       "      <th>std</th>\n",
       "    </tr>\n",
       "  </thead>\n",
       "  <tbody>\n",
       "    <tr>\n",
       "      <th>0</th>\n",
       "      <td>29</td>\n",
       "      <td>0.461334</td>\n",
       "      <td>0.133207</td>\n",
       "    </tr>\n",
       "    <tr>\n",
       "      <th>1</th>\n",
       "      <td>32</td>\n",
       "      <td>1.362706</td>\n",
       "      <td>0.290564</td>\n",
       "    </tr>\n",
       "    <tr>\n",
       "      <th>2</th>\n",
       "      <td>45</td>\n",
       "      <td>0.853600</td>\n",
       "      <td>0.109572</td>\n",
       "    </tr>\n",
       "    <tr>\n",
       "      <th>3</th>\n",
       "      <td>64</td>\n",
       "      <td>0.527914</td>\n",
       "      <td>0.326530</td>\n",
       "    </tr>\n",
       "    <tr>\n",
       "      <th>4</th>\n",
       "      <td>70</td>\n",
       "      <td>2.391272</td>\n",
       "      <td>0.699412</td>\n",
       "    </tr>\n",
       "    <tr>\n",
       "      <th>5</th>\n",
       "      <td>74</td>\n",
       "      <td>2.149968</td>\n",
       "      <td>0.509486</td>\n",
       "    </tr>\n",
       "    <tr>\n",
       "      <th>6</th>\n",
       "      <td>91</td>\n",
       "      <td>0.575140</td>\n",
       "      <td>0.238875</td>\n",
       "    </tr>\n",
       "    <tr>\n",
       "      <th>7</th>\n",
       "      <td>95</td>\n",
       "      <td>1.355576</td>\n",
       "      <td>0.318437</td>\n",
       "    </tr>\n",
       "    <tr>\n",
       "      <th>8</th>\n",
       "      <td>97</td>\n",
       "      <td>0.508224</td>\n",
       "      <td>0.183371</td>\n",
       "    </tr>\n",
       "    <tr>\n",
       "      <th>9</th>\n",
       "      <td>120</td>\n",
       "      <td>1.813217</td>\n",
       "      <td>0.352280</td>\n",
       "    </tr>\n",
       "  </tbody>\n",
       "</table>\n",
       "</div>"
      ],
      "text/plain": [
       "   topic      mean       std\n",
       "0     29  0.461334  0.133207\n",
       "1     32  1.362706  0.290564\n",
       "2     45  0.853600  0.109572\n",
       "3     64  0.527914  0.326530\n",
       "4     70  2.391272  0.699412\n",
       "5     74  2.149968  0.509486\n",
       "6     91  0.575140  0.238875\n",
       "7     95  1.355576  0.318437\n",
       "8     97  0.508224  0.183371\n",
       "9    120  1.813217  0.352280"
      ]
     },
     "execution_count": 15,
     "metadata": {},
     "output_type": "execute_result"
    }
   ],
   "source": [
    "topics = [t for t in results.keys()]\n",
    "mean  = [results[t][0] for t in topics]\n",
    "std    = [results[t][1] for t in topics]\n",
    "#counts = [timeseries_data['count'][t] for t in topics]\n",
    "r_data = pd.DataFrame({'topic':topics, 'mean':mean, 'std':std})\n",
    "\n",
    "# save a copy\n",
    "r_data.to_csv(f'../results/bootstrap_error_est_results_tcs_repl_DS2010_whitepapers_{version}.csv')\n",
    "r_data"
   ]
  },
  {
   "cell_type": "code",
   "execution_count": 16,
   "metadata": {},
   "outputs": [
    {
     "data": {
      "text/plain": [
       "(1.19989508993623, 0.31617340566035523)"
      ]
     },
     "execution_count": 16,
     "metadata": {},
     "output_type": "execute_result"
    }
   ],
   "source": [
    "# overall population mean TCS and associated standard deviation\n",
    "r_data['mean'].mean(), r_data['std'].mean()"
   ]
  },
  {
   "cell_type": "code",
   "execution_count": 17,
   "metadata": {},
   "outputs": [
    {
     "data": {
      "text/plain": [
       "<Axes: title={'center': 'Bootstrap Error Estimation (TCS, DS2010)'}, xlabel='TCS', ylabel='std'>"
      ]
     },
     "execution_count": 17,
     "metadata": {},
     "output_type": "execute_result"
    },
    {
     "data": {
      "image/png": "[encoded data removed]",
      "text/plain": [
       "<Figure size 640x480 with 1 Axes>"
      ]
     },
     "metadata": {},
     "output_type": "display_data"
    }
   ],
   "source": [
    "r_data.plot(kind='scatter', x='mean', y='std', xlabel=\"TCS\", title=\"Bootstrap Error Estimation (TCS, DS2010)\")"
   ]
  }
 ],
 "metadata": {
  "kernelspec": {
   "display_name": "Python [conda env:strat-paper]",
   "language": "python",
   "name": "conda-env-strat-paper-py"
  },
  "language_info": {
   "codemirror_mode": {
    "name": "ipython",
    "version": 3
   },
   "file_extension": ".py",
   "mimetype": "text/x-python",
   "name": "python",
   "nbconvert_exporter": "python",
   "pygments_lexer": "ipython3",
   "version": "3.10.13"
  }
 },
 "nbformat": 4,
 "nbformat_minor": 4
}
