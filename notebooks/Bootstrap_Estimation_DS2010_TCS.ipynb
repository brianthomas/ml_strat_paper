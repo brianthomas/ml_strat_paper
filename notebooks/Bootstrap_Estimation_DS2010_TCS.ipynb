{
 "cells": [
  {
   "cell_type": "markdown",
   "metadata": {},
   "source": [
    "## Notebook to examine error (standard deviation) of TCS (counts) using bootstrap method\n",
    "This is estimated for TCS Decadal Survey (DS2010) ; uses all inference values in paragraph/topic (e.g. no minimum_para_threshold)"
   ]
  },
  {
   "cell_type": "code",
   "execution_count": 1,
   "metadata": {},
   "outputs": [],
   "source": [
    "import pandas as pd\n",
    "import os, sys\n",
    "sys.path.append(\"../src\")\n",
    "from process import *"
   ]
  },
  {
   "cell_type": "code",
   "execution_count": 2,
   "metadata": {},
   "outputs": [],
   "source": [
    "# Config section\n",
    "version = '19_2_125_rec1'\n",
    "\n",
    "# viz 19_2 (125 topics)\n",
    "topics_to_estimate_errors = [29, 32, 45, 64, 70, 74, 91, 95, 97, 120] # random cherrypick of topics"
   ]
  },
  {
   "cell_type": "code",
   "execution_count": 3,
   "metadata": {},
   "outputs": [],
   "source": [
    "# load data of inferences by paragraph\n",
    "topic_distrib_data = open_topic_distrib(version)"
   ]
  },
  {
   "cell_type": "code",
   "execution_count": 4,
   "metadata": {},
   "outputs": [
    {
     "data": {
      "text/html": [
       "<div>\n",
       "<style scoped>\n",
       "    .dataframe tbody tr th:only-of-type {\n",
       "        vertical-align: middle;\n",
       "    }\n",
       "\n",
       "    .dataframe tbody tr th {\n",
       "        vertical-align: top;\n",
       "    }\n",
       "\n",
       "    .dataframe thead th {\n",
       "        text-align: right;\n",
       "    }\n",
       "</style>\n",
       "<table border=\"1\" class=\"dataframe\">\n",
       "  <thead>\n",
       "    <tr style=\"text-align: right;\">\n",
       "      <th></th>\n",
       "      <th>0</th>\n",
       "      <th>1</th>\n",
       "      <th>2</th>\n",
       "      <th>3</th>\n",
       "      <th>4</th>\n",
       "      <th>5</th>\n",
       "      <th>6</th>\n",
       "      <th>7</th>\n",
       "      <th>8</th>\n",
       "      <th>9</th>\n",
       "      <th>...</th>\n",
       "      <th>115</th>\n",
       "      <th>116</th>\n",
       "      <th>117</th>\n",
       "      <th>118</th>\n",
       "      <th>119</th>\n",
       "      <th>120</th>\n",
       "      <th>121</th>\n",
       "      <th>122</th>\n",
       "      <th>123</th>\n",
       "      <th>124</th>\n",
       "    </tr>\n",
       "  </thead>\n",
       "  <tbody>\n",
       "    <tr>\n",
       "      <th>0</th>\n",
       "      <td>0.003891</td>\n",
       "      <td>0.004101</td>\n",
       "      <td>0.004221</td>\n",
       "      <td>0.004072</td>\n",
       "      <td>0.003788</td>\n",
       "      <td>0.004016</td>\n",
       "      <td>0.003978</td>\n",
       "      <td>0.003989</td>\n",
       "      <td>0.004242</td>\n",
       "      <td>0.004272</td>\n",
       "      <td>...</td>\n",
       "      <td>0.004053</td>\n",
       "      <td>0.003897</td>\n",
       "      <td>0.003975</td>\n",
       "      <td>0.004133</td>\n",
       "      <td>0.003926</td>\n",
       "      <td>0.003991</td>\n",
       "      <td>0.004122</td>\n",
       "      <td>0.00407</td>\n",
       "      <td>0.004047</td>\n",
       "      <td>0.004007</td>\n",
       "    </tr>\n",
       "  </tbody>\n",
       "</table>\n",
       "<p>1 rows × 125 columns</p>\n",
       "</div>"
      ],
      "text/plain": [
       "          0         1         2         3         4         5         6  \\\n",
       "0  0.003891  0.004101  0.004221  0.004072  0.003788  0.004016  0.003978   \n",
       "\n",
       "          7         8         9  ...       115       116       117       118  \\\n",
       "0  0.003989  0.004242  0.004272  ...  0.004053  0.003897  0.003975  0.004133   \n",
       "\n",
       "        119       120       121      122       123       124  \n",
       "0  0.003926  0.003991  0.004122  0.00407  0.004047  0.004007  \n",
       "\n",
       "[1 rows x 125 columns]"
      ]
     },
     "execution_count": 4,
     "metadata": {},
     "output_type": "execute_result"
    }
   ],
   "source": [
    "data_by_para = topic_distrib_data.drop(['Unnamed: 0'], axis=1)\n",
    "data_by_para[:1]"
   ]
  },
  {
   "cell_type": "code",
   "execution_count": 5,
   "metadata": {},
   "outputs": [],
   "source": [
    "import numpy as np\n",
    "import statistics\n",
    "\n",
    "# sample data for bootstrap\n",
    "import random\n",
    "def sample_paragraphs(topic:str, data_by_para:pd.DataFrame, samples_per_run:int=100):\n",
    "    ''' find TCS or summed total inference from paragraphs for topic '''\n",
    "    total_inference = 0\n",
    "    \n",
    "    keys = list(data_by_para.keys())\n",
    "    t_size = len(keys)\n",
    "        \n",
    "    # random sample, no replacement\n",
    "    num_topics = len(data_by_para.columns)\n",
    "    \n",
    "    # using random sampling of the rows, no replacement\n",
    "    data = data_by_para\n",
    "    \n",
    "    row_seq = list(range(0, len(data)))\n",
    "    #print (row_seq)\n",
    "\n",
    "    random_rows = random.sample(row_seq, samples_per_run)\n",
    "    for random_row in random_rows:\n",
    "        row_data = data[data.index==random_row]\n",
    "        value = list(row_data[topic].values)[0]\n",
    "        total_inference += value\n",
    "\n",
    "    return total_inference\n",
    "\n",
    "# sample data for bootstrap\n",
    "def sample_paragraphs_repl(topic, data_by_para:dict, samples_per_run:int=100):\n",
    "    \n",
    "    total_inference = 0\n",
    "    \n",
    "    t_size = len(data_by_para.keys())\n",
    "    \n",
    "    # random sample with replacement.\n",
    "    num_topics = len(data_by_para.columns)\n",
    "    \n",
    "     # using random sampling of the rows, no replacement\n",
    "    data = data_by_para\n",
    "    \n",
    "    row_seq = list(range(0, len(data)))\n",
    "    #print (row_seq)\n",
    "\n",
    "    random_rows = []\n",
    "    for i in range(0,samples_per_run):\n",
    "        random_rows.append(random.choice(row_seq))\n",
    "   \n",
    "    for random_row in random_rows:\n",
    "        row_data = data[data.index==random_row]\n",
    "        value = list(row_data[topic].values)[0]\n",
    "        total_inference += value\n",
    "\n",
    "    return total_inference\n",
    "\n",
    "def bootstrap_estimate (topic:str, data_by_para:dict, \\\n",
    "                       num_times_to_sample:int=10, num_data_samples:int=10000,\\\n",
    "                       replacement:bool=True):\n",
    "    \n",
    "    \"\"\" Returns the mean and standard deviation for selected topic inference values \"\"\"\n",
    "    \n",
    "    stats = []\n",
    "    for i in range(0, num_times_to_sample):\n",
    "        if replacement:\n",
    "            stats.append(sample_paragraphs_repl(topic, data_by_para, num_data_samples))\n",
    "        else:\n",
    "            stats.append(sample_paragraphs(topic, data_by_para, num_data_samples))\n",
    "    \n",
    "    #calculate mean, standard deviation\n",
    "    return statistics.mean(stats), np.std(stats)\n",
    "    \n"
   ]
  },
  {
   "cell_type": "code",
   "execution_count": 6,
   "metadata": {},
   "outputs": [
    {
     "data": {
      "text/plain": [
       "1009"
      ]
     },
     "execution_count": 6,
     "metadata": {},
     "output_type": "execute_result"
    }
   ],
   "source": [
    "# overall size (using smallest/first year)\n",
    "k = list(data_by_para.keys())\n",
    "len(data_by_para[k[0]])"
   ]
  },
  {
   "cell_type": "code",
   "execution_count": 7,
   "metadata": {},
   "outputs": [
    {
     "data": {
      "text/plain": [
       "706"
      ]
     },
     "execution_count": 7,
     "metadata": {},
     "output_type": "execute_result"
    }
   ],
   "source": [
    "# choose to sample ~70% of the smallest year size\n",
    "sample_size = int(len(data_by_para) * 0.7)\n",
    "sample_size"
   ]
  },
  {
   "cell_type": "code",
   "execution_count": 8,
   "metadata": {},
   "outputs": [
    {
     "name": "stdout",
     "output_type": "stream",
     "text": [
      " time to run:  4.57 sec\n"
     ]
    },
    {
     "data": {
      "text/plain": [
       "(4.519099734293013, 0.28573436694244614)"
      ]
     },
     "execution_count": 8,
     "metadata": {},
     "output_type": "execute_result"
    }
   ],
   "source": [
    "import time\n",
    "start_time = time.time()\n",
    "\n",
    "# bootstrap w/replacement is same as w/o replacement according to:\n",
    "#  https://stats.stackexchange.com/questions/69744/why-at-all-consider-sampling-without-replacement-in-a-practical-application\n",
    "# when applied to first-order statistics like mean and variance. w/o replacement should\n",
    "# be used for higher order statistics (e.g. skewness, kurtosis)\n",
    "\n",
    "# takes about 560 sec per ~18000 data samples per topic \n",
    "result = bootstrap_estimate(\"64\", data_by_para, 10, sample_size)\n",
    "print (f\" time to run: %5.2f sec\" % (time.time()-start_time))\n",
    "result"
   ]
  },
  {
   "cell_type": "code",
   "execution_count": 9,
   "metadata": {},
   "outputs": [
    {
     "name": "stdout",
     "output_type": "stream",
     "text": [
      "Doing topic 29\n",
      "Doing topic 32\n",
      "Doing topic 45\n",
      "Doing topic 64\n",
      "Doing topic 70\n",
      "Doing topic 74\n",
      "Doing topic 91\n",
      "Doing topic 95\n",
      "Doing topic 97\n",
      "Doing topic 120\n"
     ]
    }
   ],
   "source": [
    "# Now defined above\n",
    "results = {}\n",
    "for topic in topics_to_estimate_errors:\n",
    "    print (f\"Doing topic {topic}\")\n",
    "    results[topic] = bootstrap_estimate(str(topic), data_by_para, 10, sample_size, replacement=True)"
   ]
  },
  {
   "cell_type": "code",
   "execution_count": 10,
   "metadata": {},
   "outputs": [
    {
     "data": {
      "text/plain": [
       "{29: (4.4011215621270345, 0.4284817179310549),\n",
       " 32: (5.183038293647004, 0.6196603411381211),\n",
       " 45: (4.191087505450037, 0.21230386582481475),\n",
       " 64: (4.41056143870301, 0.34430382098505014),\n",
       " 70: (5.922717381442994, 0.9723022401429963),\n",
       " 74: (7.41460943067702, 1.320918999737916),\n",
       " 91: (3.7768158259779874, 0.06165354554597288),\n",
       " 95: (8.314021788159954, 1.6397996436447575),\n",
       " 97: (3.745194590475982, 0.08377561347061255),\n",
       " 120: (7.417389236288966, 1.2755335817927222)}"
      ]
     },
     "execution_count": 10,
     "metadata": {},
     "output_type": "execute_result"
    }
   ],
   "source": [
    "results"
   ]
  },
  {
   "cell_type": "code",
   "execution_count": 11,
   "metadata": {},
   "outputs": [
    {
     "data": {
      "text/html": [
       "<div>\n",
       "<style scoped>\n",
       "    .dataframe tbody tr th:only-of-type {\n",
       "        vertical-align: middle;\n",
       "    }\n",
       "\n",
       "    .dataframe tbody tr th {\n",
       "        vertical-align: top;\n",
       "    }\n",
       "\n",
       "    .dataframe thead th {\n",
       "        text-align: right;\n",
       "    }\n",
       "</style>\n",
       "<table border=\"1\" class=\"dataframe\">\n",
       "  <thead>\n",
       "    <tr style=\"text-align: right;\">\n",
       "      <th></th>\n",
       "      <th>topic</th>\n",
       "      <th>mean</th>\n",
       "      <th>std</th>\n",
       "    </tr>\n",
       "  </thead>\n",
       "  <tbody>\n",
       "    <tr>\n",
       "      <th>0</th>\n",
       "      <td>29</td>\n",
       "      <td>4.401122</td>\n",
       "      <td>0.428482</td>\n",
       "    </tr>\n",
       "    <tr>\n",
       "      <th>1</th>\n",
       "      <td>32</td>\n",
       "      <td>5.183038</td>\n",
       "      <td>0.619660</td>\n",
       "    </tr>\n",
       "    <tr>\n",
       "      <th>2</th>\n",
       "      <td>45</td>\n",
       "      <td>4.191088</td>\n",
       "      <td>0.212304</td>\n",
       "    </tr>\n",
       "    <tr>\n",
       "      <th>3</th>\n",
       "      <td>64</td>\n",
       "      <td>4.410561</td>\n",
       "      <td>0.344304</td>\n",
       "    </tr>\n",
       "    <tr>\n",
       "      <th>4</th>\n",
       "      <td>70</td>\n",
       "      <td>5.922717</td>\n",
       "      <td>0.972302</td>\n",
       "    </tr>\n",
       "    <tr>\n",
       "      <th>5</th>\n",
       "      <td>74</td>\n",
       "      <td>7.414609</td>\n",
       "      <td>1.320919</td>\n",
       "    </tr>\n",
       "    <tr>\n",
       "      <th>6</th>\n",
       "      <td>91</td>\n",
       "      <td>3.776816</td>\n",
       "      <td>0.061654</td>\n",
       "    </tr>\n",
       "    <tr>\n",
       "      <th>7</th>\n",
       "      <td>95</td>\n",
       "      <td>8.314022</td>\n",
       "      <td>1.639800</td>\n",
       "    </tr>\n",
       "    <tr>\n",
       "      <th>8</th>\n",
       "      <td>97</td>\n",
       "      <td>3.745195</td>\n",
       "      <td>0.083776</td>\n",
       "    </tr>\n",
       "    <tr>\n",
       "      <th>9</th>\n",
       "      <td>120</td>\n",
       "      <td>7.417389</td>\n",
       "      <td>1.275534</td>\n",
       "    </tr>\n",
       "  </tbody>\n",
       "</table>\n",
       "</div>"
      ],
      "text/plain": [
       "   topic      mean       std\n",
       "0     29  4.401122  0.428482\n",
       "1     32  5.183038  0.619660\n",
       "2     45  4.191088  0.212304\n",
       "3     64  4.410561  0.344304\n",
       "4     70  5.922717  0.972302\n",
       "5     74  7.414609  1.320919\n",
       "6     91  3.776816  0.061654\n",
       "7     95  8.314022  1.639800\n",
       "8     97  3.745195  0.083776\n",
       "9    120  7.417389  1.275534"
      ]
     },
     "execution_count": 11,
     "metadata": {},
     "output_type": "execute_result"
    }
   ],
   "source": [
    "topics = [t for t in results.keys()]\n",
    "mean  = [results[t][0] for t in topics]\n",
    "std    = [results[t][1] for t in topics]\n",
    "\n",
    "# marshal to DataFrame\n",
    "r_data = pd.DataFrame({'topic':topics, 'mean':mean, 'std':std})\n",
    "\n",
    "# save results\n",
    "r_data.to_csv(f'../results/bootstrap_error_est_results_tcs_repl_DS2010_{version}.csv')\n",
    "\n",
    "# take a look\n",
    "r_data"
   ]
  },
  {
   "cell_type": "code",
   "execution_count": 12,
   "metadata": {},
   "outputs": [
    {
     "data": {
      "text/plain": [
       "(5.477655705295, 0.6958733370214019)"
      ]
     },
     "execution_count": 12,
     "metadata": {},
     "output_type": "execute_result"
    }
   ],
   "source": [
    "# overall population mean TCS and associated standard deviation\n",
    "r_data['mean'].mean(), r_data['std'].mean()"
   ]
  },
  {
   "cell_type": "code",
   "execution_count": 13,
   "metadata": {},
   "outputs": [
    {
     "data": {
      "text/plain": [
       "<Axes: title={'center': 'Bootstrap Error Estimation (TCS, DS2010)'}, xlabel='TCS', ylabel='std'>"
      ]
     },
     "execution_count": 13,
     "metadata": {},
     "output_type": "execute_result"
    },
    {
     "data": {
      "image/png": "[encoded data removed]",
      "text/plain": [
       "<Figure size 640x480 with 1 Axes>"
      ]
     },
     "metadata": {},
     "output_type": "display_data"
    }
   ],
   "source": [
    "r_data.plot(kind='scatter', x='mean', y='std', xlabel=\"TCS\", title=\"Bootstrap Error Estimation (TCS, DS2010)\")"
   ]
  }
 ],
 "metadata": {
  "kernelspec": {
   "display_name": "Python [conda env:strat-paper]",
   "language": "python",
   "name": "conda-env-strat-paper-py"
  },
  "language_info": {
   "codemirror_mode": {
    "name": "ipython",
    "version": 3
   },
   "file_extension": ".py",
   "mimetype": "text/x-python",
   "name": "python",
   "nbconvert_exporter": "python",
   "pygments_lexer": "ipython3",
   "version": "3.10.13"
  }
 },
 "nbformat": 4,
 "nbformat_minor": 4
}
